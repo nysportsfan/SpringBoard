{
 "cells": [
  {
   "cell_type": "markdown",
   "metadata": {},
   "source": [
    "# Ultimate Data Science Challenge!\n",
    "\n",
    "This notebook will be solving the problems featured in the Sprignboard Ultimate Data Science Challenge.\n",
    "\n",
    "## Part 2: Experiment and metrics design\n",
    "\n",
    "### Question 1: What would you choose as the key measure of success of this experiment in encouraging driver partners to serve both cities, and why would you choose this metric?\n",
    "\n",
    "The key measurement of success in this experiment to encourage driver partners to serve both cities is the difference in the number of driver partners for Ultimate Gotham and Ultimate Metropolis. Since the goal of this experiment is to try to close the gap in the number of driver partners between the 2 cities, it makes sense to use this difference as the metric of success because it will indicate how effective reimbursing the toll cost will be in changing their minds.\n",
    "\n",
    "### Question 2: Describe a practical experiment you would design to compare the effectiveness of the proposed change in relation to the key measure of success. \n",
    "\n",
    "**a. Implementation of the experiment**: \n",
    "\n",
    "We will begin by outlining the null hypothesis: Reimbursing the toll cost will *not* result in a change in the difference in the number of driver partners between Ultimate Gotham and Ultimate Metropolis. Thus, the alternative hypothesis is: reimbursing the toll cost *will* result in a change in the difference in the number of driver partners. \n",
    "\n",
    "**b. Statistical Tests:**\n",
    "\n",
    "The type of experiment we will be conducting is an **A/B test** where we will be comparing the effects of toll reimbursment on random driver partners. We will be reimbursing the toll cost for a random group equal to 50% of the total number of partners. The other 50% will not see any changes in their toll cost. By using permutation sampling, we will randomly select the partners (or participants of the experiment). We then calculate the test statistic by finding the difference in the observed means of the number of random driver partners for both groups. We finally use the test statistic to find the p-value, which is the probability of obtaining a value of your test statistic that is at least as extreme as what was observed, under the assumption the null hypothesis is true. \n",
    "\n",
    "**c. Results and Recommendations:**\n",
    "\n",
    "By comparing the p-value to an alpha significance level, we can determine whether or not the toll cost reimbursment was successful in closing the gap between the number of driver partners. For this experiment, we will use an alpha level of 0.05. If the generated p-value is less than 0.05, we reject the assumption that there is no change in the difference in the number of driver partners when we reimburse toll cost. Assuming that we have a large number of samples for the experiment and the experiment lasts over the course of a few months, we can use the outcome of this experiment to recommend (or not recommend) reimbursing the toll cost for Ultimate Gotham and Ultimate Metropolis driver partners."
   ]
  },
  {
   "cell_type": "code",
   "execution_count": null,
   "metadata": {},
   "outputs": [],
   "source": []
  }
 ],
 "metadata": {
  "kernelspec": {
   "display_name": "Python 3",
   "language": "python",
   "name": "python3"
  },
  "language_info": {
   "codemirror_mode": {
    "name": "ipython",
    "version": 3
   },
   "file_extension": ".py",
   "mimetype": "text/x-python",
   "name": "python",
   "nbconvert_exporter": "python",
   "pygments_lexer": "ipython3",
   "version": "3.6.4"
  }
 },
 "nbformat": 4,
 "nbformat_minor": 2
}
